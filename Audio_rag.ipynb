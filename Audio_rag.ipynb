{
  "cells": [
    {
      "cell_type": "markdown",
      "metadata": {
        "id": "9pOv0MwjB4Pb"
      },
      "source": [
        "# RAG example with an audio\n",
        "\n",
        "In this example, we use an audio as information source for the conversation.\n",
        "\n",
        "\n",
        "Imagine a situation where you directly communicate through voice with the LLM.\n",
        "\n",
        "In this case, we use Whisper, a general-purpose speech recognition model by OpenAI to convert an audio to text.\n",
        "\n",
        "From that text, we can generate a conversation with the LLM model to extract the required information.\n"
      ]
    },
    {
      "cell_type": "markdown",
      "metadata": {
        "id": "GSUlSQ0LB4Pe"
      },
      "source": [
        "## First, we install Whisper and its dependencies"
      ]
    },
    {
      "cell_type": "code",
      "execution_count": null,
      "metadata": {
        "id": "2YGbOBs6B4Pg"
      },
      "outputs": [],
      "source": [
        "!pip3 install langchain\n",
        "!pip3 install langchain_pinecone\n",
        "!pip3 install langchain[docarray]\n",
        "!pip3 install docarray\n",
        "!pip3 install pypdf"
      ]
    },
    {
      "cell_type": "code",
      "execution_count": null,
      "metadata": {
        "id": "4KZd7zfmB4Pi"
      },
      "outputs": [],
      "source": [
        "!pip3 install openai-whisper"
      ]
    },
    {
      "cell_type": "markdown",
      "metadata": {
        "id": "GrEJ03DZB4Pj"
      },
      "source": [
        "### We install ffmpeg version depending on the platform where we'll be running the example"
      ]
    },
    {
      "cell_type": "code",
      "execution_count": null,
      "metadata": {
        "id": "0qW6o6a8B4Pk"
      },
      "outputs": [],
      "source": [
        "# on Ubuntu or Debian\n",
        "#sudo apt update && sudo apt install ffmpeg\n",
        "\n",
        "# on Arch Linux\n",
        "#sudo pacman -S ffmpeg\n",
        "\n",
        "# on MacOS using Homebrew (https://brew.sh/)\n",
        "!brew install ffmpeg\n",
        "\n",
        "# on Windows using Chocolatey (https://chocolatey.org/)\n",
        "#choco install ffmpeg\n",
        "\n",
        "# on Windows using Scoop (https://scoop.sh/)\n",
        "#scoop install ffmpeg"
      ]
    },
    {
      "cell_type": "markdown",
      "metadata": {
        "id": "K8O2nR5AB4Pm"
      },
      "source": [
        "# Select the LLM model to use\n",
        "\n",
        "The model must be downloaded locally to be used, so if you want to run llama3, you should run:\n",
        "\n",
        "```\n",
        "\n",
        "ollama pull llama3\n",
        "\n",
        "```\n",
        "\n",
        "Check the list of models available for Ollama here: https://ollama.com/library"
      ]
    },
    {
      "cell_type": "markdown",
      "metadata": {
        "id": "PA1vdL6zB4Pm"
      },
      "source": [
        "## Given an example audio, we transcribe it to text so we can use it.\n",
        "\n",
        "The example audio should be downloaded locally. Change the file name with your own example."
      ]
    },
    {
      "cell_type": "code",
      "execution_count": null,
      "metadata": {
        "id": "SGp4jdGSB4Po",
        "outputId": "37c96051-e30b-463c-c6f0-737434f5c847"
      },
      "outputs": [
        {
          "name": "stderr",
          "output_type": "stream",
          "text": [
            "/Users/sergiopaniegoblanco/Library/Python/3.9/lib/python/site-packages/whisper/transcribe.py:115: UserWarning: FP16 is not supported on CPU; using FP32 instead\n",
            "  warnings.warn(\"FP16 is not supported on CPU; using FP32 instead\")\n"
          ]
        },
        {
          "name": "stdout",
          "output_type": "stream",
          "text": [
            " Hi, my name is Kevin Fowler and I'm very grateful to have the opportunity to work in public science. I'm very fortunate to have been able to be trained by excellent mentors early in my career to give me a toolbox to be able to unravel important questions that can help us better understand our physical universe. I'm really excited about the opportunity to participate in the science that works around agriculture and find out ways that we can farm more sustainably, working in ways that we can help limit environmental impacts of farming, but also providing profitable ways for farmers to stay in business. We're really excited about the technologies that we create creating better foods for the American consumer and industrialized world consumer, but also getting to people in need so that they can have more selection of better fruits and vegetables. Going forward, I think that the future will depend upon the integration of all technologies at the table and it's really important that we pay attention to this new breakthroughs and integrate them into our agricultural schemes. The future of agriculture in medicine room really relies on us being open to all new solutions and using all of them to solve our problems to have better planet and better people.\n"
          ]
        }
      ],
      "source": [
        "import whisper\n",
        "\n",
        "whisper_model = whisper.load_model(\"base\")\n",
        "\n",
        "def transcribe_audio(audio_path):\n",
        "    result = whisper_model.transcribe(audio_path)\n",
        "    return result['text']\n",
        "\n",
        "# https://commons.wikimedia.org/wiki/File:Audio_Kevin_Folta.wav\n",
        "# Audio example\n",
        "audio_path = \"./files/Audio_Kevin_Folta.wav\" # CHANGE THIS FILE\n",
        "\n",
        "# Transcribir el audio\n",
        "transcribed_text = transcribe_audio(audio_path)\n",
        "\n",
        "print(transcribed_text)\n",
        "\n",
        "with open(\"./files/whisper_transcription.txt\", \"a\") as file:\n",
        "    file.write(transcribed_text)\n"
      ]
    },
    {
      "cell_type": "markdown",
      "metadata": {
        "id": "ZIyKoUThB4Pq"
      },
      "source": [
        "# We instantiate the model and the embeddings"
      ]
    },
    {
      "cell_type": "code",
      "execution_count": null,
      "metadata": {
        "id": "J6eUDrL9B4Pq"
      },
      "outputs": [],
      "source": [
        "#MODEL = \"gpt-3.5-turbo\"\n",
        "#MODEL = \"mixtral:8x7b\"\n",
        "#MODEL = \"gemma:7b\"\n",
        "#MODEL = \"llama2\"\n",
        "MODEL = \"llama3\" # https://ollama.com/library/llama3"
      ]
    },
    {
      "cell_type": "code",
      "execution_count": null,
      "metadata": {
        "id": "MAYkeObYB4Pr"
      },
      "outputs": [],
      "source": [
        "from langchain_community.llms import Ollama\n",
        "from langchain_community.embeddings import OllamaEmbeddings\n",
        "\n",
        "\n",
        "model = Ollama(model=MODEL)\n",
        "embeddings = OllamaEmbeddings(model=MODEL)"
      ]
    },
    {
      "cell_type": "markdown",
      "metadata": {
        "id": "IB2mM-nKB4Pr"
      },
      "source": [
        "# We load the transcription previously saved using TextLoader"
      ]
    },
    {
      "cell_type": "code",
      "execution_count": null,
      "metadata": {
        "id": "T3bW7LUEB4Ps",
        "outputId": "6501f257-e4b5-44e7-d57a-b2efc7bbfe3b"
      },
      "outputs": [
        {
          "data": {
            "text/plain": [
              "[Document(page_content=\" Hi, my name is Kevin Fowler and I'm very grateful to have the opportunity to work in public science. I'm very fortunate to have been able to be trained by excellent mentors early in my career to give me a toolbox to be able to unravel important questions that can help us better understand our physical universe. I'm really excited about the opportunity to participate in the science that works around agriculture and find out ways that we can farm more sustainably, working in ways that we can help limit environmental impacts of farming, but also providing profitable ways for farmers to stay in business. We're really excited about the technologies that we create creating better foods for the American consumer and industrialized world consumer, but also getting to people in need so that they can have more selection of better fruits and vegetables. Going forward, I think that the future will depend upon the integration of all technologies at the table and it's really important that we pay attention to this new breakthroughs and integrate them into our agricultural schemes. The future of agriculture in medicine room really relies on us being open to all new solutions and using all of them to solve our problems to have better planet and better people.\", metadata={'source': './files/whisper_transcription.txt'})]"
            ]
          },
          "execution_count": 22,
          "metadata": {},
          "output_type": "execute_result"
        }
      ],
      "source": [
        "from langchain_community.document_loaders import TextLoader\n",
        "\n",
        "loader = TextLoader(\"./files/whisper_transcription.txt\")\n",
        "text_documents = loader.load()\n",
        "text_documents"
      ]
    },
    {
      "cell_type": "markdown",
      "metadata": {
        "id": "09JGSfHZB4Ps"
      },
      "source": [
        "# We explit the document into chunks"
      ]
    },
    {
      "cell_type": "code",
      "execution_count": null,
      "metadata": {
        "id": "_mSagwQHB4Pt",
        "outputId": "20d833b9-71b9-4c34-b880-797476c1c1c4"
      },
      "outputs": [
        {
          "data": {
            "text/plain": [
              "[Document(page_content=\"Hi, my name is Kevin Fowler and I'm very grateful to have the opportunity to work in public\", metadata={'source': './files/whisper_transcription.txt'}),\n",
              " Document(page_content=\"to work in public science. I'm very fortunate to have been able to be trained by excellent mentors\", metadata={'source': './files/whisper_transcription.txt'}),\n",
              " Document(page_content='excellent mentors early in my career to give me a toolbox to be able to unravel important questions', metadata={'source': './files/whisper_transcription.txt'}),\n",
              " Document(page_content=\"important questions that can help us better understand our physical universe. I'm really excited\", metadata={'source': './files/whisper_transcription.txt'}),\n",
              " Document(page_content=\"I'm really excited about the opportunity to participate in the science that works around\", metadata={'source': './files/whisper_transcription.txt'})]"
            ]
          },
          "execution_count": 24,
          "metadata": {},
          "output_type": "execute_result"
        }
      ],
      "source": [
        "from langchain.text_splitter import RecursiveCharacterTextSplitter\n",
        "\n",
        "text_splitter = RecursiveCharacterTextSplitter(chunk_size=100, chunk_overlap=20)\n",
        "text_documents = text_splitter.split_documents(text_documents)"
      ]
    },
    {
      "cell_type": "code",
      "execution_count": null,
      "metadata": {
        "id": "NC-Xl0bmB4Pt"
      },
      "outputs": [],
      "source": [
        "text_documents"
      ]
    },
    {
      "cell_type": "markdown",
      "metadata": {
        "id": "PPQbHYvnB4Pu"
      },
      "source": [
        "# Store the PDF in a vector space.\n",
        "\n",
        "From Langchain docs:\n",
        "\n",
        "`DocArrayInMemorySearch is a document index provided by Docarray that stores documents in memory. It is a great starting point for small datasets, where you may not want to launch a database server.`\n",
        "\n",
        "The execution time of the following block depends on the complexity and longitude of the PDF provided. Try to keep it small and simple for the example."
      ]
    },
    {
      "cell_type": "code",
      "execution_count": null,
      "metadata": {
        "id": "PTwm2DoVB4Pu",
        "outputId": "e75392f1-9af9-4420-9e2b-ed7acc0dfa6f"
      },
      "outputs": [
        {
          "name": "stderr",
          "output_type": "stream",
          "text": [
            "/Users/sergiopaniegoblanco/Library/Python/3.9/lib/python/site-packages/pydantic/_migration.py:283: UserWarning: `pydantic.error_wrappers:ValidationError` has been moved to `pydantic:ValidationError`.\n",
            "  warnings.warn(f'`{import_path}` has been moved to `{new_location}`.')\n"
          ]
        }
      ],
      "source": [
        "from langchain_community.vectorstores import DocArrayInMemorySearch\n",
        "\n",
        "vectorstore = DocArrayInMemorySearch.from_documents(text_documents, embedding=embeddings)"
      ]
    },
    {
      "cell_type": "code",
      "execution_count": null,
      "metadata": {
        "id": "yzqMgi1cB4Pv"
      },
      "outputs": [],
      "source": [
        "retriever = vectorstore.as_retriever()"
      ]
    },
    {
      "cell_type": "markdown",
      "metadata": {
        "id": "mTvkZrT-B4Pv"
      },
      "source": [
        "# Generate the conversation template"
      ]
    },
    {
      "cell_type": "code",
      "execution_count": null,
      "metadata": {
        "id": "yE_CY3qTB4Pv"
      },
      "outputs": [],
      "source": [
        "from langchain.prompts import PromptTemplate\n",
        "\n",
        "template = \"\"\"\n",
        "Answer the question based on the context below. If you can't\n",
        "answer the question, answer with \"I don't know\".\n",
        "\n",
        "Context: {context}\n",
        "\n",
        "Question: {question}\n",
        "\"\"\"\n",
        "\n",
        "prompt = PromptTemplate.from_template(template)"
      ]
    },
    {
      "cell_type": "markdown",
      "metadata": {
        "id": "LvxGyOdhB4Pv"
      },
      "source": [
        "# We instantiate the parser"
      ]
    },
    {
      "cell_type": "code",
      "execution_count": null,
      "metadata": {
        "id": "duve6U6zB4Pw"
      },
      "outputs": [],
      "source": [
        "from langchain_core.output_parsers import StrOutputParser\n",
        "\n",
        "parser = StrOutputParser()"
      ]
    },
    {
      "cell_type": "markdown",
      "metadata": {
        "id": "GPEiNBPoB4Pw"
      },
      "source": [
        "# We can now extract the information from the audio!"
      ]
    },
    {
      "cell_type": "code",
      "execution_count": null,
      "metadata": {
        "id": "Ql-S1qsKB4Pw",
        "outputId": "358c6fae-39a3-4b02-93af-99ce06aac513"
      },
      "outputs": [
        {
          "name": "stdout",
          "output_type": "stream",
          "text": [
            "Say 'exit' or 'quit' to exit the loop\n",
            "Question: What's his name?\n",
            "Answer: Kevin Fowler.\n",
            "\n",
            "Say 'exit' or 'quit' to exit the loop\n",
            "Question: exit\n",
            "Exiting the conversation. Goodbye!\n"
          ]
        }
      ],
      "source": [
        "while True:\n",
        "    print(\"Say 'exit' or 'quit' to exit the loop\")\n",
        "    question = input('User question: ')\n",
        "    print(f\"Question: {question}\")\n",
        "    if question.lower() in [\"exit\", \"quit\"]:\n",
        "        print(\"Exiting the conversation. Goodbye!\")\n",
        "        break\n",
        "    retrieved_context = retriever.invoke(question)\n",
        "    formatted_prompt = prompt.format(context=retrieved_context, question=question)\n",
        "    response_from_model = model.invoke(formatted_prompt)\n",
        "    parsed_response = parser.parse(response_from_model)\n",
        "    print(f\"Answer: {parsed_response}\")\n",
        "    print()"
      ]
    },
    {
      "cell_type": "code",
      "execution_count": null,
      "metadata": {
        "id": "Mi5Zg0VaB4Px"
      },
      "outputs": [],
      "source": []
    }
  ],
  "metadata": {
    "kernelspec": {
      "display_name": "Python 3",
      "language": "python",
      "name": "python3"
    },
    "language_info": {
      "codemirror_mode": {
        "name": "ipython",
        "version": 3
      },
      "file_extension": ".py",
      "mimetype": "text/x-python",
      "name": "python",
      "nbconvert_exporter": "python",
      "pygments_lexer": "ipython3",
      "version": "3.9.6"
    },
    "colab": {
      "provenance": []
    }
  },
  "nbformat": 4,
  "nbformat_minor": 0
}